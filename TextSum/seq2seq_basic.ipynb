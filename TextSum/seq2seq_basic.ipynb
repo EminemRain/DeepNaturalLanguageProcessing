{
 "cells": [
  {
   "cell_type": "code",
   "execution_count": 122,
   "metadata": {
    "collapsed": true
   },
   "outputs": [],
   "source": [
    "import numpy as np\n",
    "import tensorflow as tf\n",
    "from TextSum import helpers"
   ]
  },
  {
   "cell_type": "code",
   "execution_count": 123,
   "metadata": {},
   "outputs": [],
   "source": [
    "tf.reset_default_graph()\n",
    "sess = tf.InteractiveSession()"
   ]
  },
  {
   "cell_type": "code",
   "execution_count": 124,
   "metadata": {},
   "outputs": [],
   "source": [
    "PAD = 0\n",
    "EOS = 1\n",
    "vocab_size = 10\n",
    "input_embedding_size = 20\n",
    "encoder_hidden_units = 25\n",
    "decoder_hidden_units = encoder_hidden_units"
   ]
  },
  {
   "cell_type": "code",
   "execution_count": 125,
   "metadata": {},
   "outputs": [],
   "source": [
    "# encoder_inputs:[max_time, batch_size]\n",
    "encoder_inputs = tf.placeholder(shape=(None, None), dtype=tf.int32, name='encoder_inputs')\n",
    "# decoder_targets: [max_time, batch_size]\n",
    "decoder_targets = tf.placeholder(shape=(None, None), dtype=tf.int32, name='decoder_targets')\n",
    "# decoder_inputs: [max_time, batch_size]\n",
    "decoder_inputs = tf.placeholder(shape=(None, None), dtype=tf.int32, name='decoder_inputs')"
   ]
  },
  {
   "cell_type": "code",
   "execution_count": 126,
   "metadata": {},
   "outputs": [
    {
     "data": {
      "text/plain": [
       "<tf.Tensor 'embedding_lookup_1:0' shape=(?, ?, 20) dtype=float32>"
      ]
     },
     "execution_count": 126,
     "metadata": {},
     "output_type": "execute_result"
    }
   ],
   "source": [
    "embeddings = tf.Variable(tf.random_uniform([vocab_size, input_embedding_size], -1.0, 1.0), dtype=tf.float32)\n",
    "# encoder_inputs_embeded: [max_time, batch_size, input_embedding_size]\n",
    "encoder_inputs_embeded = tf.nn.embedding_lookup(embeddings, encoder_inputs)\n",
    "# decoder_inputs_embeded: [max_time, batch_size, input_embedding_size]\n",
    "decoder_inputs_embeded = tf.nn.embedding_lookup(embeddings, decoder_inputs)\n",
    "decoder_inputs_embeded"
   ]
  },
  {
   "cell_type": "code",
   "execution_count": 127,
   "metadata": {},
   "outputs": [
    {
     "data": {
      "text/plain": [
       "LSTMStateTuple(c=<tf.Tensor 'rnn/while/Exit_2:0' shape=(?, 25) dtype=float32>, h=<tf.Tensor 'rnn/while/Exit_3:0' shape=(?, 25) dtype=float32>)"
      ]
     },
     "execution_count": 127,
     "metadata": {},
     "output_type": "execute_result"
    }
   ],
   "source": [
    "encoder_cell = tf.contrib.rnn.LSTMCell(encoder_hidden_units)\n",
    "encoder_outputs, encoder_final_state = tf.nn.dynamic_rnn(encoder_cell,\n",
    "                                                         encoder_inputs_embeded,\n",
    "                                                         dtype=tf.float32, time_major=True)\n",
    "del encoder_outputs\n",
    "encoder_final_state"
   ]
  },
  {
   "cell_type": "code",
   "execution_count": 128,
   "metadata": {},
   "outputs": [],
   "source": [
    "decoder_cell = tf.contrib.rnn.LSTMCell(decoder_hidden_units)\n",
    "decoder_outputs, decoder_final_state = tf.nn.dynamic_rnn(decoder_cell, \n",
    "                                                         decoder_inputs_embeded,\n",
    "                                                         initial_state=encoder_final_state,\n",
    "                                                         dtype=tf.float32, time_major=True,scope='plain_decoder')"
   ]
  },
  {
   "cell_type": "code",
   "execution_count": 129,
   "metadata": {},
   "outputs": [],
   "source": [
    "decoder_logits = tf.contrib.layers.linear(decoder_outputs, vocab_size)\n",
    "decoder_prediction = tf.argmax(decoder_logits, 2)"
   ]
  },
  {
   "cell_type": "code",
   "execution_count": 130,
   "metadata": {},
   "outputs": [],
   "source": [
    "stepwise_cross_entropy = tf.nn.softmax_cross_entropy_with_logits(\n",
    "    labels=tf.one_hot(decoder_targets, \n",
    "                      depth=vocab_size, \n",
    "                      dtype=tf.float32),\n",
    "    logits=decoder_logits)"
   ]
  },
  {
   "cell_type": "code",
   "execution_count": 131,
   "metadata": {},
   "outputs": [],
   "source": [
    "loss = tf.reduce_mean(stepwise_cross_entropy)\n",
    "train_op = tf.train.AdamOptimizer().minimize(loss)"
   ]
  },
  {
   "cell_type": "code",
   "execution_count": 132,
   "metadata": {},
   "outputs": [],
   "source": [
    "sess.run(tf.global_variables_initializer())"
   ]
  },
  {
   "cell_type": "code",
   "execution_count": 133,
   "metadata": {
    "collapsed": false
   },
   "outputs": [
    {
     "name": "stdout",
     "output_type": "stream",
     "text": [
      "batch_encoded:\n[[6 3 9]\n [0 4 8]\n [0 0 7]]\ndecoder inputs:\n[[1 1 1]\n [0 0 0]\n [0 0 0]\n [0 0 0]]\ndecoder predictions:\n[[4 4 8]\n [3 3 3]\n [3 3 3]\n [3 3 3]]\n"
     ]
    }
   ],
   "source": [
    "batch_ = [[6], [3, 4], [9, 8, 7]]\n",
    "\n",
    "batch_, batch_length_ = helpers.batch(batch_)\n",
    "print('batch_encoded:\\n' + str(batch_))\n",
    "\n",
    "din_, dlen_ = helpers.batch(np.ones(shape=(3, 1), dtype=np.int32),\n",
    "                            max_sequence_length=4)\n",
    "print('decoder inputs:\\n' + str(din_))\n",
    "\n",
    "pred_ = sess.run(decoder_prediction,\n",
    "                 feed_dict={encoder_inputs: batch_,\n",
    "                            decoder_inputs: din_,})\n",
    "print('decoder predictions:\\n' + str(pred_))"
   ]
  },
  {
   "cell_type": "code",
   "execution_count": 134,
   "metadata": {},
   "outputs": [],
   "source": [
    "batch_size = 10\n",
    "batches = helpers.random_sequences(length_from=3, length_to=8, vocab_lower=2, \n",
    "                                   vocab_upper=10, batch_size=batch_size)\n",
    "# print('head of the batch')\n",
    "# for seq in next(batches):\n",
    "#     print(seq)"
   ]
  },
  {
   "cell_type": "code",
   "execution_count": 135,
   "metadata": {},
   "outputs": [],
   "source": [
    "def next_feed():\n",
    "    batch = next(batches)\n",
    "    for seq in batch:\n",
    "        print(seq)\n",
    "    encoder_inputs_, _ = helpers.batch(batch)\n",
    "    decoder_targets_, _ = helpers.batch(\n",
    "        [(sequence) + [EOS] for sequence in batch]\n",
    "    )\n",
    "    decoder_inputs_, _ = helpers.batch(\n",
    "        [[EOS] + (sequence) for sequence in batch]\n",
    "    )\n",
    "    return {\n",
    "        encoder_inputs: encoder_inputs_,\n",
    "        decoder_inputs: decoder_inputs_,\n",
    "        decoder_targets: decoder_targets_,\n",
    "    }"
   ]
  },
  {
   "cell_type": "code",
   "execution_count": 146,
   "metadata": {},
   "outputs": [
    {
     "name": "stdout",
     "output_type": "stream",
     "text": [
      "[7, 2, 5, 2, 5]\n[9, 3, 7]\n[8, 8, 6, 8, 6, 6, 8, 3]\n[7, 5, 3, 6, 5, 3, 8, 7]\n[3, 7, 2, 2, 7, 5, 4]\n[2, 6, 9, 5, 5, 3, 6]\n[3, 2, 6, 9]\n[3, 4, 8, 5]\n[8, 5, 5]\n[2, 4, 6]\n"
     ]
    },
    {
     "data": {
      "text/plain": [
       "array([[7, 9, 8, 7, 3, 2, 3, 3, 8, 2],\n       [2, 3, 8, 5, 7, 6, 2, 4, 5, 4],\n       [5, 7, 6, 3, 2, 9, 6, 8, 5, 6],\n       [2, 0, 8, 6, 2, 5, 9, 5, 0, 0],\n       [5, 0, 6, 5, 7, 5, 0, 0, 0, 0],\n       [0, 0, 6, 3, 5, 3, 0, 0, 0, 0],\n       [0, 0, 8, 8, 4, 6, 0, 0, 0, 0],\n       [0, 0, 3, 7, 0, 0, 0, 0, 0, 0]], dtype=int32)"
      ]
     },
     "execution_count": 146,
     "metadata": {},
     "output_type": "execute_result"
    }
   ],
   "source": [
    "a = next_feed()\n",
    "a.get(encoder_inputs)"
   ]
  },
  {
   "cell_type": "code",
   "execution_count": 147,
   "metadata": {},
   "outputs": [
    {
     "data": {
      "text/plain": [
       "array([[1, 1, 1, 1, 1, 1, 1, 1, 1, 1],\n       [7, 9, 8, 7, 3, 2, 3, 3, 8, 2],\n       [2, 3, 8, 5, 7, 6, 2, 4, 5, 4],\n       [5, 7, 6, 3, 2, 9, 6, 8, 5, 6],\n       [2, 0, 8, 6, 2, 5, 9, 5, 0, 0],\n       [5, 0, 6, 5, 7, 5, 0, 0, 0, 0],\n       [0, 0, 6, 3, 5, 3, 0, 0, 0, 0],\n       [0, 0, 8, 8, 4, 6, 0, 0, 0, 0],\n       [0, 0, 3, 7, 0, 0, 0, 0, 0, 0]], dtype=int32)"
      ]
     },
     "execution_count": 147,
     "metadata": {},
     "output_type": "execute_result"
    }
   ],
   "source": [
    "a.get(decoder_inputs)"
   ]
  },
  {
   "cell_type": "code",
   "execution_count": 148,
   "metadata": {},
   "outputs": [
    {
     "data": {
      "text/plain": [
       "array([[7, 9, 8, 7, 3, 2, 3, 3, 8, 2],\n       [2, 3, 8, 5, 7, 6, 2, 4, 5, 4],\n       [5, 7, 6, 3, 2, 9, 6, 8, 5, 6],\n       [2, 1, 8, 6, 2, 5, 9, 5, 1, 1],\n       [5, 0, 6, 5, 7, 5, 1, 1, 0, 0],\n       [1, 0, 6, 3, 5, 3, 0, 0, 0, 0],\n       [0, 0, 8, 8, 4, 6, 0, 0, 0, 0],\n       [0, 0, 3, 7, 1, 1, 0, 0, 0, 0],\n       [0, 0, 1, 1, 0, 0, 0, 0, 0, 0]], dtype=int32)"
      ]
     },
     "execution_count": 148,
     "metadata": {},
     "output_type": "execute_result"
    }
   ],
   "source": [
    "a.get(decoder_targets)"
   ]
  },
  {
   "cell_type": "code",
   "execution_count": 149,
   "metadata": {},
   "outputs": [
    {
     "data": {
      "text/plain": [
       "array([[7, 2, 5, 2, 5, 0, 0, 0],\n       [9, 3, 7, 0, 0, 0, 0, 0],\n       [8, 8, 6, 8, 6, 6, 8, 3],\n       [7, 5, 3, 6, 5, 3, 8, 7],\n       [3, 7, 2, 2, 7, 5, 4, 0],\n       [2, 6, 9, 5, 5, 3, 6, 0],\n       [3, 2, 6, 9, 0, 0, 0, 0],\n       [3, 4, 8, 5, 0, 0, 0, 0],\n       [8, 5, 5, 0, 0, 0, 0, 0],\n       [2, 4, 6, 0, 0, 0, 0, 0]], dtype=int32)"
      ]
     },
     "execution_count": 149,
     "metadata": {},
     "output_type": "execute_result"
    }
   ],
   "source": [
    "a[encoder_inputs].T"
   ]
  },
  {
   "cell_type": "code",
   "execution_count": 154,
   "metadata": {},
   "outputs": [
    {
     "name": "stdout",
     "output_type": "stream",
     "text": [
      "a.[7 2 5 2 5 0 0 0]\nb.[7 2 5 2 5 0 0 0]\na.[9 3 7 0 0 0 0 0]\nb.[9 3 7 0 0 0 0 0]\na.[8 8 6 8 6 6 8 3]\nb.[8 8 6 8 6 6 8 3]\na.[7 5 3 6 5 3 8 7]\nb.[7 5 3 6 5 3 8 7]\na.[3 7 2 2 7 5 4 0]\nb.[3 7 2 2 7 5 4 0]\na.[2 6 9 5 5 3 6 0]\nb.[2 6 9 5 5 3 6 0]\na.[3 2 6 9 0 0 0 0]\nb.[3 2 6 9 0 0 0 0]\na.[3 4 8 5 0 0 0 0]\nb.[3 4 8 5 0 0 0 0]\na.[8 5 5 0 0 0 0 0]\nb.[8 5 5 0 0 0 0 0]\na.[2 4 6 0 0 0 0 0]\nb.[2 4 6 0 0 0 0 0]\n"
     ]
    }
   ],
   "source": [
    "for i, (aa, bbb) in enumerate(zip(a[encoder_inputs].T, a[encoder_inputs].T)):\n",
    "    print('a.{}'.format(aa))\n",
    "    print('b.{}'.format(bbb))\n"
   ]
  },
  {
   "cell_type": "code",
   "execution_count": 155,
   "metadata": {},
   "outputs": [],
   "source": [
    "loss_track = []"
   ]
  },
  {
   "cell_type": "code",
   "execution_count": 51,
   "metadata": {},
   "outputs": [
    {
     "name": "stdout",
     "output_type": "stream",
     "text": [
      "batch 0\n  minibatch loss: 2.323730707168579\n"
     ]
    },
    {
     "name": "stdout",
     "output_type": "stream",
     "text": [
      "  sample 1:\n    input     > [4 8 9 8 2 0 0 0]\n    predicted > [3 3 9 9 9 4 2 2 2]\n  sample 2:\n    input     > [8 6 5 5 0 0 0 0]\n    predicted > [3 3 8 4 4 4 5 5 5]\n  sample 3:\n    input     > [5 3 9 5 6 9 7 0]\n    predicted > [3 4 9 9 9 9 9 9 3]\n\n"
     ]
    },
    {
     "name": "stdout",
     "output_type": "stream",
     "text": [
      "batch 1000\n  minibatch loss: 0.2517053186893463\n  sample 1:\n    input     > [7 6 3 7 2 0 0 0]\n    predicted > [7 6 3 7 2 1 0 0 0]\n  sample 2:\n    input     > [2 9 4 2 8 0 0 0]\n    predicted > [2 9 4 2 8 1 0 0 0]\n  sample 3:\n    input     > [3 8 9 8 7 5 9 0]\n    predicted > [3 8 9 8 5 5 9 1 0]\n\n"
     ]
    },
    {
     "name": "stdout",
     "output_type": "stream",
     "text": [
      "batch 2000\n  minibatch loss: 0.13324221968650818\n  sample 1:\n    input     > [9 4 9 0 0 0 0 0]\n    predicted > [9 4 9 1 0 0 0 0 0]\n  sample 2:\n    input     > [8 9 2 2 5 5 3 3]\n    predicted > [2 9 2 5 5 3 3 3 1]\n  sample 3:\n    input     > [2 6 8 7 8 0 0 0]\n    predicted > [2 6 8 7 8 1 0 0 0]\n\n"
     ]
    },
    {
     "name": "stdout",
     "output_type": "stream",
     "text": [
      "batch 3000\n  minibatch loss: 0.08200498670339584\n  sample 1:\n    input     > [2 8 8 3 7 0 0 0]\n    predicted > [2 8 8 3 7 1 0 0 0]\n  sample 2:\n    input     > [9 7 2 4 9 8 0 0]\n    predicted > [9 7 2 4 9 8 1 0 0]\n  sample 3:\n    input     > [5 2 6 9 0 0 0 0]\n    predicted > [5 2 6 9 1 0 0 0 0]\n\n"
     ]
    }
   ],
   "source": [
    "max_batches = 3001\n",
    "batches_in_epoch = 1000\n",
    "\n",
    "try:\n",
    "    for batch in range(max_batches):\n",
    "        fd = next_feed()\n",
    "        _, l = sess.run([train_op, loss], fd)\n",
    "        loss_track.append(l)\n",
    "\n",
    "        if batch == 0 or batch % batches_in_epoch == 0:\n",
    "            print('batch {}'.format(batch))\n",
    "            print('  minibatch loss: {}'.format(sess.run(loss, fd)))\n",
    "            predict_ = sess.run(decoder_prediction, fd)\n",
    "            for i, (inp, pred) in enumerate(zip(fd[encoder_inputs].T, predict_.T)):\n",
    "                print('  sample {}:'.format(i + 1))\n",
    "                print('    input     > {}'.format(inp))\n",
    "                print('    predicted > {}'.format(pred))\n",
    "                if i >= 2:\n",
    "                    break\n",
    "            print()\n",
    "except KeyboardInterrupt:\n",
    "    print('training interrupted')"
   ]
  },
  {
   "cell_type": "code",
   "execution_count": 51,
   "metadata": {},
   "outputs": [
    {
     "name": "stdout",
     "output_type": "stream",
     "text": [
      "loss 0.0834 after 300100 examples (batch_size=100)\n"
     ]
    },
    {
     "data": {
      "image/png": "[encoded data removed]",
      "text/plain": [
       "<matplotlib.figure.Figure at 0x1168c2eb8>"
      ]
     },
     "metadata": {},
     "output_type": "display_data"
    }
   ],
   "source": [
    "%matplotlib inline\n",
    "import matplotlib.pyplot as plt\n",
    "plt.plot(loss_track)\n",
    "print('loss {:.4f} after {} examples (batch_size={})'.format(loss_track[-1], \n",
    "                                                             len(loss_track)*batch_size, \n",
    "                                                             batch_size))"
   ]
  },
  {
   "cell_type": "code",
   "execution_count": null,
   "metadata": {},
   "outputs": [],
   "source": []
  }
 ],
 "metadata": {
  "kernelspec": {
   "display_name": "Python 2",
   "language": "python",
   "name": "python2"
  },
  "language_info": {
   "codemirror_mode": {
    "name": "ipython",
    "version": 2
   },
   "file_extension": ".py",
   "mimetype": "text/x-python",
   "name": "python",
   "nbconvert_exporter": "python",
   "pygments_lexer": "ipython2",
   "version": "2.7.6"
  }
 },
 "nbformat": 4,
 "nbformat_minor": 0
}
