{
 "cells": [
  {
   "cell_type": "code",
   "execution_count": 2,
   "metadata": {
    "collapsed": true
   },
   "outputs": [],
   "source": [
    "import tensorflow as tf\n",
    "import numpy as np"
   ]
  },
  {
   "cell_type": "code",
   "execution_count": 20,
   "metadata": {},
   "outputs": [
    {
     "data": {
      "text/plain": [
       "['bsaqq', 'npy', 'lbwuj', 'bqv', 'kial', 'tddam', 'edxpjpg', 'nspv']"
      ]
     },
     "execution_count": 20,
     "metadata": {},
     "output_type": "execute_result"
    }
   ],
   "source": [
    "file_path = './Seq2Seq/char_rank/data/'\n",
    "with open(file_path + 'letters_source.txt') as f:\n",
    "    source_data = f.read().split('\\n')\n",
    "source_data[:8]"
   ]
  },
  {
   "cell_type": "code",
   "execution_count": 21,
   "metadata": {},
   "outputs": [
    {
     "data": {
      "text/plain": [
       "['abqqs', 'npy', 'bjluw', 'bqv', 'aikl', 'addmt', 'degjppx', 'npsv']"
      ]
     },
     "execution_count": 21,
     "metadata": {},
     "output_type": "execute_result"
    }
   ],
   "source": [
    "with open(file_path + 'letters_target.txt') as f:\n",
    "    target_data = f.read().split('\\n')\n",
    "target_data[:8]"
   ]
  },
  {
   "cell_type": "code",
   "execution_count": 72,
   "metadata": {},
   "outputs": [],
   "source": [
    "def charset(data):\n",
    "    special_char = ['<EOS>', '<GO>', '<UNK>', '<PAD>']\n",
    "    char_set = list(set(char for vocab in data for char in vocab))+ special_char\n",
    "    char_to_int = {char: ids for ids, char in enumerate(char_set)}\n",
    "    int_to_char = dict(enumerate(char_set))\n",
    "    return char_to_int, int_to_char"
   ]
  },
  {
   "cell_type": "code",
   "execution_count": 73,
   "metadata": {},
   "outputs": [
    {
     "data": {
      "text/plain": [
       "{'<EOS>': 26,\n '<GO>': 27,\n '<PAD>': 29,\n '<UNK>': 28,\n 'a': 12,\n 'b': 25,\n 'c': 24,\n 'd': 0,\n 'e': 19,\n 'f': 21,\n 'g': 23,\n 'h': 20,\n 'i': 5,\n 'j': 7,\n 'k': 16,\n 'l': 1,\n 'm': 8,\n 'n': 14,\n 'o': 6,\n 'p': 15,\n 'q': 22,\n 'r': 10,\n 's': 4,\n 't': 11,\n 'u': 13,\n 'v': 3,\n 'w': 9,\n 'x': 2,\n 'y': 18,\n 'z': 17}"
      ]
     },
     "execution_count": 73,
     "metadata": {},
     "output_type": "execute_result"
    }
   ],
   "source": [
    "source_char_to_int, source_int_to_char = charset(source_data)\n",
    "source_char_to_int"
   ]
  },
  {
   "cell_type": "code",
   "execution_count": 74,
   "metadata": {},
   "outputs": [
    {
     "data": {
      "text/plain": [
       "[[25, 4, 12, 22, 22],\n [14, 15, 18],\n [1, 25, 9, 13, 7],\n [25, 22, 3],\n [16, 5, 12, 1],\n [11, 0, 0, 12, 8],\n [19, 0, 2, 15, 7, 15, 23],\n [14, 4, 15, 3],\n [20, 13, 1, 6, 17],\n [16, 8, 24, 1, 22]]"
      ]
     },
     "execution_count": 74,
     "metadata": {},
     "output_type": "execute_result"
    }
   ],
   "source": [
    "source_letters_to_int = [[source_char_to_int.get(char, source_char_to_int['<UNK>']) \n",
    "                          for char in vocab] for vocab in source_data]\n",
    "source_letters_to_int[:10]"
   ]
  },
  {
   "cell_type": "code",
   "execution_count": 75,
   "metadata": {},
   "outputs": [
    {
     "data": {
      "text/plain": [
       "{'<EOS>': 26,\n '<GO>': 27,\n '<PAD>': 29,\n '<UNK>': 28,\n 'a': 12,\n 'b': 25,\n 'c': 24,\n 'd': 0,\n 'e': 19,\n 'f': 21,\n 'g': 23,\n 'h': 20,\n 'i': 5,\n 'j': 7,\n 'k': 16,\n 'l': 1,\n 'm': 8,\n 'n': 14,\n 'o': 6,\n 'p': 15,\n 'q': 22,\n 'r': 10,\n 's': 4,\n 't': 11,\n 'u': 13,\n 'v': 3,\n 'w': 9,\n 'x': 2,\n 'y': 18,\n 'z': 17}"
      ]
     },
     "execution_count": 75,
     "metadata": {},
     "output_type": "execute_result"
    }
   ],
   "source": [
    "target_char_to_int, target_int_to_char = charset(target_data)\n",
    "target_char_to_int"
   ]
  },
  {
   "cell_type": "code",
   "execution_count": 76,
   "metadata": {},
   "outputs": [
    {
     "data": {
      "text/plain": [
       "[[12, 25, 22, 22, 4, 26],\n [14, 15, 18, 26],\n [25, 7, 1, 13, 9, 26],\n [25, 22, 3, 26],\n [12, 5, 16, 1, 26],\n [12, 0, 0, 8, 11, 26],\n [0, 19, 23, 7, 15, 15, 2, 26],\n [14, 15, 4, 3, 26],\n [20, 1, 6, 13, 17, 26],\n [24, 16, 1, 8, 22, 26]]"
      ]
     },
     "execution_count": 76,
     "metadata": {},
     "output_type": "execute_result"
    }
   ],
   "source": [
    "target_letters_to_int = [[target_char_to_int.get(char, target_char_to_int['<UNK>']) \n",
    "                          for char in vocab] + [target_char_to_int['<EOS>']] for vocab in target_data]\n",
    "target_letters_to_int[:10]"
   ]
  },
  {
   "cell_type": "code",
   "execution_count": 31,
   "metadata": {},
   "outputs": [],
   "source": []
  },
  {
   "cell_type": "code",
   "execution_count": null,
   "metadata": {},
   "outputs": [],
   "source": []
  }
 ],
 "metadata": {
  "kernelspec": {
   "display_name": "Python 2",
   "language": "python",
   "name": "python2"
  },
  "language_info": {
   "codemirror_mode": {
    "name": "ipython",
    "version": 2
   },
   "file_extension": ".py",
   "mimetype": "text/x-python",
   "name": "python",
   "nbconvert_exporter": "python",
   "pygments_lexer": "ipython2",
   "version": "2.7.6"
  }
 },
 "nbformat": 4,
 "nbformat_minor": 0
}
