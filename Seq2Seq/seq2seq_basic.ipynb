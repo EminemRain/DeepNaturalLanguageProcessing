{
 "cells": [
  {
   "cell_type": "code",
   "execution_count": 12,
   "metadata": {
    "collapsed": true
   },
   "outputs": [],
   "source": [
    "import numpy as np\n",
    "import tensorflow as tf\n",
    "from Seq2Seq import helpers"
   ]
  },
  {
   "cell_type": "code",
   "execution_count": 13,
   "metadata": {
    "collapsed": true
   },
   "outputs": [],
   "source": [
    "tf.reset_default_graph()\n",
    "sess = tf.InteractiveSession()"
   ]
  },
  {
   "cell_type": "code",
   "execution_count": 14,
   "metadata": {
    "collapsed": true
   },
   "outputs": [],
   "source": [
    "PAD = 0\n",
    "EOS = 1\n",
    "vocab_size = 10\n",
    "batch_size = 2\n",
    "max_time = 3\n",
    "input_embedding_size = 20\n",
    "encoder_hidden_units = 25\n",
    "decoder_hidden_units = encoder_hidden_units"
   ]
  },
  {
   "cell_type": "code",
   "execution_count": 15,
   "metadata": {
    "collapsed": true
   },
   "outputs": [],
   "source": [
    "# encoder_inputs:[max_time, batch_size]\n",
    "encoder_inputs = tf.placeholder(shape=(batch_size, max_time), dtype=tf.int32, name='encoder_inputs')\n",
    "# decoder_targets: [max_time, batch_size]\n",
    "decoder_targets = tf.placeholder(shape=(batch_size, max_time), dtype=tf.int32, name='decoder_targets')\n",
    "# decoder_inputs: [max_time, batch_size]\n",
    "decoder_inputs = tf.placeholder(shape=(batch_size, max_time), dtype=tf.int32, name='decoder_inputs')"
   ]
  },
  {
   "cell_type": "code",
   "execution_count": 16,
   "metadata": {},
   "outputs": [
    {
     "data": {
      "text/plain": [
       "<tf.Tensor 'embedding_lookup_1:0' shape=(2, 3, 20) dtype=float32>"
      ]
     },
     "execution_count": 16,
     "metadata": {},
     "output_type": "execute_result"
    }
   ],
   "source": [
    "embeddings = tf.Variable(tf.random_uniform([vocab_size, input_embedding_size], -1.0, 1.0),\n",
    "                         dtype=tf.float32)\n",
    "# encoder_inputs_embeded: [max_time, batch_size, input_embedding_size]\n",
    "encoder_inputs_embeded = tf.nn.embedding_lookup(embeddings, encoder_inputs)\n",
    "# decoder_inputs_embeded: [max_time, batch_size, input_embedding_size]\n",
    "decoder_inputs_embeded = tf.nn.embedding_lookup(embeddings, decoder_inputs)\n",
    "decoder_inputs_embeded"
   ]
  },
  {
   "cell_type": "code",
   "execution_count": 17,
   "metadata": {},
   "outputs": [
    {
     "data": {
      "text/plain": [
       "LSTMStateTuple(c=<tf.Tensor 'rnn/while/Exit_2:0' shape=(?, 25) dtype=float32>, h=<tf.Tensor 'rnn/while/Exit_3:0' shape=(?, 25) dtype=float32>)"
      ]
     },
     "execution_count": 17,
     "metadata": {},
     "output_type": "execute_result"
    }
   ],
   "source": [
    "encoder_cell = tf.contrib.rnn.LSTMCell(encoder_hidden_units)\n",
    "encoder_outputs, encoder_final_state = tf.nn.dynamic_rnn(encoder_cell,\n",
    "                                                         encoder_inputs_embeded,\n",
    "                                                         dtype=tf.float32, time_major=True)\n",
    "del encoder_outputs\n",
    "encoder_final_state"
   ]
  },
  {
   "cell_type": "code",
   "execution_count": 18,
   "metadata": {},
   "outputs": [],
   "source": [
    "encoder_cell"
   ]
  },
  {
   "cell_type": "code",
   "execution_count": 19,
   "metadata": {
    "collapsed": true
   },
   "outputs": [
    {
     "data": {
      "text/plain": [
       "<tf.Tensor 'plain_decoder/TensorArrayStack/TensorArrayGatherV3:0' shape=(2, 3, 25) dtype=float32>"
      ]
     },
     "execution_count": 19,
     "metadata": {},
     "output_type": "execute_result"
    }
   ],
   "source": [
    "decoder_cell = tf.contrib.rnn.LSTMCell(decoder_hidden_units)\n",
    "decoder_outputs, decoder_final_state = tf.nn.dynamic_rnn(decoder_cell, \n",
    "                                                         decoder_inputs_embeded,\n",
    "                                                         initial_state=encoder_final_state,\n",
    "                                                         dtype=tf.float32, time_major=True,\n",
    "                                                         scope='plain_decoder')\n",
    "decoder_outputs"
   ]
  },
  {
   "cell_type": "code",
   "execution_count": 20,
   "metadata": {},
   "outputs": [],
   "source": [
    "decoder_final_state"
   ]
  },
  {
   "cell_type": "code",
   "execution_count": 22,
   "metadata": {
    "collapsed": true
   },
   "outputs": [
    {
     "data": {
      "text/plain": [
       "<tf.Tensor 'fully_connected_1/BiasAdd:0' shape=(2, 3, 10) dtype=float32>"
      ]
     },
     "execution_count": 22,
     "metadata": {},
     "output_type": "execute_result"
    }
   ],
   "source": [
    "decoder_logits = tf.contrib.layers.linear(decoder_outputs, vocab_size)\n",
    "decoder_prediction = tf.argmax(decoder_logits, 2)\n",
    "decoder_logits"
   ]
  },
  {
   "cell_type": "code",
   "execution_count": 125,
   "metadata": {
    "collapsed": true
   },
   "outputs": [],
   "source": [
    "stepwise_cross_entropy = tf.nn.softmax_cross_entropy_with_logits(\n",
    "    labels=tf.one_hot(decoder_targets, \n",
    "                      depth=vocab_size, \n",
    "                      dtype=tf.float32),\n",
    "    logits=decoder_logits)"
   ]
  },
  {
   "cell_type": "code",
   "execution_count": 126,
   "metadata": {
    "collapsed": true
   },
   "outputs": [],
   "source": [
    "loss = tf.reduce_mean(stepwise_cross_entropy)\n",
    "train_op = tf.train.AdamOptimizer().minimize(loss)"
   ]
  },
  {
   "cell_type": "code",
   "execution_count": 127,
   "metadata": {
    "collapsed": true
   },
   "outputs": [],
   "source": [
    "sess.run(tf.global_variables_initializer())"
   ]
  },
  {
   "cell_type": "code",
   "execution_count": 128,
   "metadata": {},
   "outputs": [
    {
     "name": "stdout",
     "output_type": "stream",
     "text": [
      "batch_encoded:\n",
      "[[6 3 9]\n",
      " [0 4 8]\n",
      " [0 0 7]]\n",
      "decoder inputs:\n",
      "[[1 1 1]\n",
      " [0 0 0]\n",
      " [0 0 0]\n",
      " [0 0 0]]\n",
      "decoder predictions:\n",
      "[[2 2 2]\n",
      " [0 0 4]\n",
      " [0 0 4]\n",
      " [0 0 4]]\n"
     ]
    }
   ],
   "source": [
    "batch_ = [[6], [3, 4], [9, 8, 7]]\n",
    "\n",
    "batch_, batch_length_ = helpers.batch(batch_)\n",
    "print('batch_encoded:\\n' + str(batch_))\n",
    "\n",
    "din_, dlen_ = helpers.batch(np.ones(shape=(3, 1), dtype=np.int32),\n",
    "                            max_sequence_length=4)\n",
    "print('decoder inputs:\\n' + str(din_))\n",
    "\n",
    "pred_ = sess.run(decoder_prediction,\n",
    "                 feed_dict={encoder_inputs: batch_,\n",
    "                            decoder_inputs: din_,})\n",
    "print('decoder predictions:\\n' + str(pred_))"
   ]
  },
  {
   "cell_type": "code",
   "execution_count": 130,
   "metadata": {
    "collapsed": true
   },
   "outputs": [],
   "source": [
    "batch_size = 100\n",
    "batches = helpers.random_sequences(length_from=3, length_to=8, vocab_lower=2, \n",
    "                                   vocab_upper=10, batch_size=batch_size)\n",
    "# print('head of the batch')\n",
    "# for seq in next(bat+dltches):\n",
    "#     print(seq)"
   ]
  },
  {
   "cell_type": "code",
   "execution_count": 131,
   "metadata": {
    "collapsed": true
   },
   "outputs": [],
   "source": [
    "# coding=utf-8\n",
    "def next_feed():\n",
    "    batch = next(batches)\n",
    "    encoder_inputs_, _ = helpers.batch(batch)\n",
    "    # print('encoder_inputs_shape{:}'.format(np.shape(encoder_inputs_)))\n",
    "    decoder_targets_, _ = helpers.batch(\n",
    "        [(sequence) + [EOS] for sequence in batch]\n",
    "    )\n",
    "    # print('decoder_target_shape{:}'.format(np.shape(decoder_targets_)))\n",
    "\n",
    "    # decoder_inputs_, _ = helpers.batch(\n",
    "    #     [[EOS] + (sequence) for sequence in batch]\n",
    "    # )\n",
    "    # For decoder_inputs, instead of shifted target sequence [<EOS> W X Y Z], try feeding [<EOS> <PAD> <PAD> <PAD>]\n",
    "    decoder_inputs_, _ = helpers.batch(np.ones(shape=(batch_size, 1), dtype=np.int32),\n",
    "                                       max_sequence_length=9)\n",
    "    # print('decoder_inputs_shape{:}'.format(np.shape(decoder_inputs_)))\n",
    "    \n",
    "    return {\n",
    "        encoder_inputs: encoder_inputs_,\n",
    "        decoder_inputs: decoder_inputs_,\n",
    "        decoder_targets: decoder_targets_,\n",
    "    }"
   ]
  },
  {
   "cell_type": "code",
   "execution_count": 132,
   "metadata": {
    "collapsed": true
   },
   "outputs": [],
   "source": [
    "a = next_feed()"
   ]
  },
  {
   "cell_type": "code",
   "execution_count": 133,
   "metadata": {
    "collapsed": true
   },
   "outputs": [],
   "source": [
    "loss_track = []"
   ]
  },
  {
   "cell_type": "code",
   "execution_count": 134,
   "metadata": {
    "collapsed": true
   },
   "outputs": [
    {
     "name": "stdout",
     "output_type": "stream",
     "text": [
      "batch 0\n",
      "  minibatch loss: 2.2710750102996826\n",
      "  sample 1:\n",
      "    input     > [6 8 8 0 0 0 0 0]\n",
      "    predicted > [0 0 0 0 0 0 0 4 4]\n",
      "  sample 2:\n",
      "    input     > [3 5 6 0 0 0 0 0]\n",
      "    predicted > [0 0 0 0 0 0 0 4 4]\n",
      "  sample 3:\n",
      "    input     > [4 6 8 6 7 4 5 2]\n",
      "    predicted > [2 4 4 4 4 4 4 4 4]\n",
      "\n",
      "batch 1000\n",
      "  minibatch loss: 0.6762337684631348\n",
      "  sample 1:\n",
      "    input     > [2 9 6 2 9 3 8 0]\n",
      "    predicted > [2 2 9 2 2 8 8 1 0]\n",
      "  sample 2:\n",
      "    input     > [8 6 7 2 5 0 0 0]\n",
      "    predicted > [8 8 7 5 5 1 0 0 0]\n",
      "  sample 3:\n",
      "    input     > [7 3 9 4 4 6 0 0]\n",
      "    predicted > [7 7 4 4 4 4 1 0 0]\n",
      "\n",
      "batch 2000\n",
      "  minibatch loss: 0.4665626287460327\n",
      "  sample 1:\n",
      "    input     > [8 3 4 3 7 2 7 3]\n",
      "    predicted > [8 3 3 7 7 7 7 3 1]\n",
      "  sample 2:\n",
      "    input     > [9 2 2 2 6 0 0 0]\n",
      "    predicted > [9 2 2 2 6 1 0 0 0]\n",
      "  sample 3:\n",
      "    input     > [7 7 7 2 7 8 6 5]\n",
      "    predicted > [7 7 7 7 7 7 7 5 1]\n",
      "\n",
      "batch 3000\n",
      "  minibatch loss: 0.35619938373565674\n",
      "  sample 1:\n",
      "    input     > [5 7 3 2 7 2 0 0]\n",
      "    predicted > [3 7 7 7 2 2 1 0 0]\n",
      "  sample 2:\n",
      "    input     > [9 5 6 3 2 2 5 6]\n",
      "    predicted > [9 5 5 2 2 2 2 6 1]\n",
      "  sample 3:\n",
      "    input     > [6 2 2 7 2 5 0 0]\n",
      "    predicted > [6 2 2 2 2 5 1 0 0]\n",
      "\n"
     ]
    }
   ],
   "source": [
    "max_batches = 3001\n",
    "batches_in_epoch = 1000\n",
    "\n",
    "try:\n",
    "    for batch in range(max_batches):\n",
    "        fd = next_feed()\n",
    "        _, l = sess.run([train_op, loss], fd)\n",
    "        loss_track.append(l)\n",
    "\n",
    "        if batch == 0 or batch % batches_in_epoch == 0:\n",
    "            print('batch {}'.format(batch))\n",
    "            print('  minibatch loss: {}'.format(sess.run(loss, fd)))\n",
    "            predict_ = sess.run(decoder_prediction, fd)\n",
    "            for i, (inp, pred) in enumerate(zip(fd[encoder_inputs].T, predict_.T)):\n",
    "                print('  sample {}:'.format(i + 1))\n",
    "                print('    input     > {}'.format(inp))\n",
    "                print('    predicted > {}'.format(pred))\n",
    "                if i >= 2:\n",
    "                    break\n",
    "            print()\n",
    "except KeyboardInterrupt:\n",
    "    print('training interrupted')"
   ]
  },
  {
   "cell_type": "code",
   "execution_count": 116,
   "metadata": {},
   "outputs": [
    {
     "name": "stdout",
     "output_type": "stream",
     "text": [
      "loss 0.4694 after 300100 examples (batch_size=100)\n"
     ]
    },
    {
     "data": {
      "image/png": "[encoded data removed]",
      "text/plain": [
       "<matplotlib.figure.Figure at 0x11586efd0>"
      ]
     },
     "metadata": {},
     "output_type": "display_data"
    }
   ],
   "source": [
    "%matplotlib inline\n",
    "import matplotlib.pyplot as plt\n",
    "plt.plot(loss_track)\n",
    "print('loss {:.4f} after {} examples (batch_size={})'.format(loss_track[-1], \n",
    "                                                             len(loss_track)*batch_size, \n",
    "                                                             batch_size))"
   ]
  },
  {
   "cell_type": "code",
   "execution_count": null,
   "metadata": {
    "collapsed": true
   },
   "outputs": [],
   "source": []
  }
 ],
 "metadata": {
  "kernelspec": {
   "display_name": "Python 3",
   "language": "python",
   "name": "python3"
  },
  "language_info": {
   "codemirror_mode": {
    "name": "ipython",
    "version": 3
   },
   "file_extension": ".py",
   "mimetype": "text/x-python",
   "name": "python",
   "nbconvert_exporter": "python",
   "pygments_lexer": "ipython3",
   "version": "3.5.2"
  }
 },
 "nbformat": 4,
 "nbformat_minor": 1
}
