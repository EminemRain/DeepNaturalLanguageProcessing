{
 "cells": [
  {
   "cell_type": "code",
   "execution_count": 6,
   "metadata": {},
   "outputs": [],
   "source": [
    "#!/usr/bin/env python\n",
    "# -*- coding: utf-8 -*-\n",
    "\n",
    "\"\"\"生成词向量空间\"\"\"\n",
    "\n",
    "from gensim.models import Word2Vec\n",
    "from sklearn.model_selection import train_test_split\n",
    "import numpy as np\n",
    "import logging\n",
    "import os\n",
    "\n",
    "logging.basicConfig(format='%(asctime)s : %(levelname)s : %(message)s', level=logging.INFO)\n",
    "\n",
    "# sentencestest = [['中国', '人'], ['美国', '人']]\n",
    "# # train word2vec on the two sentences\n",
    "# model = gensim.models.Word2Vec(sentences, min_count=1)\n",
    "#\n",
    "# print model[\"中国\"]\n",
    "\n",
    "\n",
    "# class MySentences1(object):\n",
    "#\n",
    "#     def __init__(self, dir_name):\n",
    "#         self.dir_name = dir_name\n",
    "#         self.do()\n",
    "#\n",
    "#     def do(self):\n",
    "#         res = []\n",
    "#         for file_name in os.listdir(self.dir_name):\n",
    "#             for line in open(os.path.join(self.dir_name, file_name)).readlines():\n",
    "#                 res.append(line.strip())\n",
    "#         return res\n",
    "\n",
    "\n",
    "# 读取文件夹中的所有数据\n",
    "# class MySentences(object):\n",
    "#     def __init__(self, dir_name):\n",
    "#         self.dir_name = dir_name\n",
    "#\n",
    "#     def __iter__(self):\n",
    "#         for file_name in os.listdir(self.dir_name):\n",
    "#             for line in open(os.path.join(self.dir_name, file_name)):\n",
    "#                 yield line.split(\",\")\n",
    "\n",
    "# #  a memory-friendly iterator\n",
    "# sentences = MySentences('/Users/li/Kunyan/MyRepository/DeepNaturalLanguageProcessing/DeepNLP/data')\n",
    "# sentences = MySentences('/Users/li/Kunyan/DataSet/trainingSets')  # a memory-friendly iterator\n",
    "\n",
    "\n",
    "# 按照标签读取数据\n",
    "def read_data(pos_file_path,neg_file_path):\n",
    "    with open(pos_file_path, \"r\") as input_file:\n",
    "        pos_file = input_file.readlines()\n",
    "\n",
    "    with open(neg_file_path, 'r') as input_file:\n",
    "        neg_file = input_file.readlines()\n",
    "\n",
    "    res = (pos_file, neg_file)\n",
    "    return res\n",
    "\n",
    "\n",
    "# 数据预处理,设置标签,训练集测试集准备\n",
    "def data_split(pos_file,neg_file):\n",
    "    # 标签\n",
    "    label = np.concatenate((np.ones(len(pos_file)), np.zeros(len(neg_file))))\n",
    "\n",
    "    # 训练集,测试集\n",
    "    x_train, x_test, y_train, y_test = train_test_split(np.concatenate((pos_file, neg_file)), label, test_size=0)\n",
    "\n",
    "    res = (x_train, x_test, y_train, y_test)\n",
    "    return res\n",
    "\n",
    "\n",
    "def text_clean(corpus):\n",
    "    corpus = [z.lower().replace('\\n', \" \").split(\" \") for z in corpus]\n",
    "    return corpus"
   ]
  },
  {
   "cell_type": "code",
   "execution_count": 9,
   "metadata": {},
   "outputs": [],
   "source": [
    "pos_file_path = '/Users/li/Kunyan/MyRepository/DeepNaturalLanguageProcessing/DeepNLP/data/test3.txt'\n",
    "neg_file_path = '/Users/li/Kunyan/MyRepository/DeepNaturalLanguageProcessing/DeepNLP/data/test2.txt'\n",
    "\n",
    "tmp = read_data(pos_file_path, neg_file_path)\n",
    "res = data_split(tmp[0], tmp[1])"
   ]
  },
  {
   "cell_type": "code",
   "execution_count": 15,
   "metadata": {},
   "outputs": [
    {
     "data": {
      "text/plain": [
       "'\\xe4\\xb8\\xad\\xe5\\x9b\\xbd\\xe7\\xbb\\x8f\\xe6\\xb5\\x8e\\xe7\\xbd\\x91,\\xe5\\x8c\\x97\\xe4\\xba\\xac,9\\xe6\\x9c\\x8830\\xe6\\x97\\xa5,\\xe8\\xae\\xaf,\\xe4\\xb8\\xad\\xe5\\x9b\\xbd\\xe7\\xbb\\x8f\\xe6\\xb5\\x8e\\xe7\\xbd\\x91,\\xe8\\xae\\xb0\\xe8\\x80\\x85,\\xe8\\x8e\\xb7\\xe6\\x82\\x89,\\xe8\\xb4\\xa8\\xe6\\xa3\\x80\\xe6\\x80\\xbb\\xe5\\xb1\\x80,\\xe5\\x85\\xac\\xe5\\xb8\\x83,2015\\xe5\\xb9\\xb4,\\xe7\\xbd\\x91\\xe7\\xbb\\x9c\\xe9\\x94\\x80\\xe5\\x94\\xae,\\xe7\\x8e\\xa9\\xe5\\x85\\xb7,\\xe6\\x9c\\x8d\\xe8\\xa3\\x85,\\xe9\\x9e\\x8b\\xe7\\xb1\\xbb,\\xe8\\x83\\x8c,\\xe6\\x8f\\x90\\xe5\\x8c\\x85,\\xe5\\xb0\\x8f\\xe5\\xae\\xb6\\xe7\\x94\\xb5,\\xe7\\xb1\\xbb,11,\\xe7\\x94\\xb5\\xe5\\xad\\x90\\xe5\\x95\\x86\\xe5\\x8a\\xa1,\\xe4\\xba\\xa7\\xe5\\x93\\x81,\\xe5\\x9b\\xbd\\xe5\\xae\\xb6\\xe7\\x9b\\x91\\xe7\\x9d\\xa3,\\xe4\\xb8\\x93,\\xe9\\xa1\\xb9,\\xe6\\x8a\\xbd\\xe6\\x9f\\xa5,\\xe6\\x83\\x85\\xe5\\x86\\xb5,\\xe9\\x80\\x9a,\\xe4\\xbc\\x91\\xe9\\x97\\xb2\\xe6\\x9c\\x8d\\xe8\\xa3\\x85,\\xe6\\x9c\\xba\\xe7\\xbb\\x87,\\xe6\\x8a\\xbd\\xe6\\xa3\\x80,\\xe5\\x90\\x88\\xe6\\xa0\\xbc\\xe7\\x8e\\x87,96%,\\xe4\\xbb\\x8b\\xe7\\xbb\\x8d,\\xe6\\x8a\\xbd\\xe6\\x9f\\xa5,45,\\xe5\\xae\\xb6,\\xe4\\xbc\\x81\\xe4\\xb8\\x9a,\\xe7\\x94\\x9f\\xe4\\xba\\xa7,57,\\xe6\\x89\\xb9\\xe6\\xac\\xa1,\\xe4\\xba\\xa7\\xe5\\x93\\x81,\\xe9\\x87\\x8d\\xe7\\x82\\xb9,\\xe7\\x94\\xb2\\xe9\\x86\\x9b\\xe5\\x90\\xab\\xe9\\x87\\x8f,PH,\\xe5\\x80\\xbc\\n'"
      ]
     },
     "execution_count": 15,
     "metadata": {},
     "output_type": "execute_result"
    }
   ],
   "source": [
    "x_train = res[0]\n",
    "x_train[0]"
   ]
  },
  {
   "cell_type": "code",
   "execution_count": 16,
   "metadata": {},
   "outputs": [
    {
     "ename": "IndexError",
     "evalue": "index 0 is out of bounds for axis 0 with size 0",
     "traceback": [
      "\u001b[0;31m\u001b[0m",
      "\u001b[0;31mIndexError\u001b[0mTraceback (most recent call last)",
      "\u001b[0;32m<ipython-input-16-76b25f742ee3>\u001b[0m in \u001b[0;36m<module>\u001b[0;34m()\u001b[0m\n\u001b[1;32m      1\u001b[0m \u001b[0mx_test\u001b[0m \u001b[0;34m=\u001b[0m \u001b[0mres\u001b[0m\u001b[0;34m[\u001b[0m\u001b[0;36m1\u001b[0m\u001b[0;34m]\u001b[0m\u001b[0;34m\u001b[0m\u001b[0m\n\u001b[0;32m----> 2\u001b[0;31m \u001b[0mx_test\u001b[0m\u001b[0;34m[\u001b[0m\u001b[0;36m0\u001b[0m\u001b[0;34m]\u001b[0m\u001b[0;34m\u001b[0m\u001b[0m\n\u001b[0m",
      "\u001b[0;31mIndexError\u001b[0m: index 0 is out of bounds for axis 0 with size 0"
     ],
     "output_type": "error"
    }
   ],
   "source": [
    "x_test = res[1]\n",
    "x_test[0]"
   ]
  },
  {
   "cell_type": "code",
   "execution_count": 17,
   "metadata": {},
   "outputs": [],
   "source": [
    "label_train = res[2]"
   ]
  },
  {
   "cell_type": "code",
   "execution_count": 18,
   "metadata": {},
   "outputs": [],
   "source": [
    "label_test = res[3]"
   ]
  },
  {
   "cell_type": "code",
   "execution_count": 19,
   "metadata": {},
   "outputs": [],
   "source": [
    "x_train = text_clean(x_train)\n",
    "x_train[0]"
   ]
  },
  {
   "cell_type": "code",
   "execution_count": 20,
   "metadata": {},
   "outputs": [],
   "source": [
    "x_test = text_clean(x_test)"
   ]
  },
  {
   "cell_type": "code",
   "execution_count": null,
   "metadata": {},
   "outputs": [],
   "source": [
    ""
   ]
  }
 ],
 "metadata": {
  "kernelspec": {
   "display_name": "Python 2",
   "language": "python",
   "name": "python2"
  },
  "language_info": {
   "codemirror_mode": {
    "name": "ipython",
    "version": 2.0
   },
   "file_extension": ".py",
   "mimetype": "text/x-python",
   "name": "python",
   "nbconvert_exporter": "python",
   "pygments_lexer": "ipython2",
   "version": "2.7.10"
  }
 },
 "nbformat": 4,
 "nbformat_minor": 0
}